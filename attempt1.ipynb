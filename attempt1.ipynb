{
 "cells": [
  {
   "cell_type": "code",
   "execution_count": null,
   "id": "a897a438",
   "metadata": {},
   "outputs": [
    {
     "name": "stdout",
     "output_type": "stream",
     "text": [
      "tensor([[5, 3, 1, 3],\n",
      "        [0, 3, 1, 3],\n",
      "        [5, 3, 1, 0],\n",
      "        ...,\n",
      "        [6, 3, 1, 3],\n",
      "        [0, 3, 1, 3],\n",
      "        [0, 3, 1, 3]])\n",
      "tensor([[   65.,  8450.,   856.,   854.,    22.],\n",
      "        [   80.,  9600.,  1262.,     0.,    49.],\n",
      "        [   68., 11250.,   920.,   866.,    24.],\n",
      "        ...,\n",
      "        [   66.,  9042.,  1188.,  1152.,    84.],\n",
      "        [   68.,  9717.,  1078.,     0.,    75.],\n",
      "        [   75.,  9937.,  1256.,     0.,    60.]])\n",
      "tensor([[208500.],\n",
      "        [181500.],\n",
      "        [223500.],\n",
      "        ...,\n",
      "        [266500.],\n",
      "        [142125.],\n",
      "        [147500.]])\n"
     ]
    }
   ],
   "source": [
    "#Kaggle House Pricing Advanced Regression Model\n",
    "\n",
    "import torch\n",
    "import pandas as pd\n",
    "import sklearn \n",
    "import numpy as np\n",
    "import matplotlib.pyplot as plt\n",
    "\n",
    "train_set = pd.read_csv(\"/Users/xDAyN/Desktop/cs project/kaggle/House Prices/house-prices-advanced-regression-techniques/train.csv\", usecols=[\"SalePrice\", \"MSSubClass\", \"MSZoning\", \"LotFrontage\", \"LotArea\", \"Street\", \"YearBuilt\", \"LotShape\", \"1stFlrSF\", \"2ndFlrSF\"]).dropna()\n",
    "test_set = pd.read_csv(\"/Users/xDAyN/Desktop/cs project/kaggle/House Prices/house-prices-advanced-regression-techniques/train.csv\", usecols=[ \"MSSubClass\", \"MSZoning\", \"LotFrontage\", \"LotArea\", \"Street\", \"YearBuilt\", \"LotShape\", \"1stFlrSF\", \"2ndFlrSF\"]).dropna()\n",
    "\n",
    "import datetime\n",
    "\n",
    "train_set['Total Years'] = datetime.datetime.now().year - train_set[\"YearBuilt\"]\n",
    "train_set.drop(\"YearBuilt\", axis=1,inplace=True)\n",
    "\n",
    "#splitting features into categorical and continuos\n",
    "cat_features = [\"MSSubClass\", \"MSZoning\", \"Street\", \"LotShape\"]\n",
    "out_features = [\"SalePrice\"]\n",
    "\n",
    "#convering unique values of MSSubClass into indexes using Laber Encoder to use Embedded Layer in the future\n",
    "from sklearn.preprocessing import LabelEncoder #This encodes the target labels from 0 to n-1 unique values, and it defines the order for categorical features. For example, a category of cats and dogs will now become 0 and 1, allowing us to work with subsequent numbers instead of text. Even if the numbers werre categorised before, such as either 14.5 or 17.5, now will become 0 and 1, or (n-1) depending on number of unique features. This is why Scikit-Learn is important.\n",
    "lbl_encoders = {}\n",
    "for feature in cat_features:\n",
    "  lbl_encoders[feature] = LabelEncoder()\n",
    "  train_set[feature] = lbl_encoders[feature].fit_transform(train_set[feature])\n",
    "\n",
    "\n",
    "#convert categorical features from numpy into torch tensors\n",
    "cat_features = np.stack([train_set[\"MSSubClass\"], train_set[\"MSZoning\"], train_set[\"Street\"], train_set[\"LotShape\"]],1) #the data in these columns is now in one array. Now convert to tensors\n",
    "cat_features = torch.tensor(cat_features, dtype=torch.int64)\n",
    "print(cat_features)\n",
    "\n",
    "\n",
    "cont_features = []\n",
    "for i in train_set.columns:\n",
    "  if i in [\"MSSubClass\", \"MSZoning\", \"Street\", \"LotShape\", \"SalePrice\"]:\n",
    "    pass\n",
    "  else:\n",
    "    cont_features.append(i)\n",
    "\n",
    "cont_features = np.stack([train_set[i].values for i in cont_features],1)\n",
    "cont_features = torch.tensor(cont_features, dtype=torch.float)\n",
    "print(cont_features)\n",
    "\n",
    "y=torch.tensor(train_set[\"SalePrice\"].values, dtype=torch.float).reshape(-1,1)\n",
    "print(y)\n",
    "\n",
    "\n",
    "#embedding layers for cat features\n",
    "\n"
   ]
  },
  {
   "cell_type": "code",
   "execution_count": null,
   "id": "b1f0a779",
   "metadata": {},
   "outputs": [],
   "source": []
  }
 ],
 "metadata": {
  "kernelspec": {
   "display_name": "Python 3",
   "language": "python",
   "name": "python3"
  },
  "language_info": {
   "codemirror_mode": {
    "name": "ipython",
    "version": 3
   },
   "file_extension": ".py",
   "mimetype": "text/x-python",
   "name": "python",
   "nbconvert_exporter": "python",
   "pygments_lexer": "ipython3",
   "version": "3.12.5"
  }
 },
 "nbformat": 4,
 "nbformat_minor": 5
}
